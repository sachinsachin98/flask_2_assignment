{
 "cells": [
  {
   "cell_type": "markdown",
   "id": "1eb1ee35-2cf6-4f05-bab7-ae314f8153e6",
   "metadata": {},
   "source": [
    "#Q1\n",
    "GET and POST are two HTTP methods used for communication between a client (such as a web browser or a mobile app) and a web server. These methods specify the type of request being sent by the client to the server and how the server should process that request.\n",
    "\n",
    "GET Method:\n",
    "The GET method is used to request data from the server. When a client makes a GET request, it asks the server to retrieve a specific resource (usually identified by a URL) and return it in the response.\n",
    "\n",
    "POST Method:\n",
    "The POST method is used to submit data to be processed by the server. When a client makes a POST request, it sends data in the request body to the server, which then processes and responds to the request accordingly.\n",
    "POST requests are not idempotent, meaning that multiple identical POST requests may produce different results. They can modify the server's data or state.\n",
    "The data sent in a POST request is included in the request body, making it more secure compared to GET, as the data is not visible in the URL."
   ]
  },
  {
   "cell_type": "markdown",
   "id": "88fe13f2-4ec3-4156-8fdf-b718bbe5de7b",
   "metadata": {},
   "source": [
    "#Q2\n",
    "In Flask, the request object is used to access incoming client requests and retrieve data submitted by the client to the server. It is an essential part of handling user input and allows Flask applications to interact with the data sent by users through HTTP methods like GET and POST.\n",
    "\n",
    "The request object provides various attributes and methods to extract information from the incoming request, such as form data, query parameters, cookies, headers, and more. It allows developers to access and process data submitted by the client and use it to generate appropriate responses."
   ]
  },
  {
   "cell_type": "markdown",
   "id": "ecce29f7-8046-4eb5-a29b-34cb845a1e81",
   "metadata": {},
   "source": [
    "#Q3\n",
    "In Flask, the redirect() function is used to perform HTTP redirection, meaning it redirects the client's browser from one URL to another URL. Redirection is a way to send users to a different location or page, either within the same website or to an external website.\n",
    "\n",
    "The primary use case for using redirect() in Flask is to perform actions such as:\n",
    "\n",
    "Redirecting After Form Submission: After processing data submitted by a user through an HTML form (e.g., a login form, a registration form), it is common to redirect the user to a different page to display the results or take them to the dashboard.\n",
    "\n",
    "Handling Successful Operations: After successful completion of an action, like creating a new resource or updating data, you may redirect the user to a success page or a confirmation page."
   ]
  },
  {
   "cell_type": "markdown",
   "id": "386a0b17-669a-4ef9-b0f6-799eeebfeef0",
   "metadata": {},
   "source": [
    "#Q4\n",
    "In Flask, templates are used to separate the presentation layer (HTML markup) from the application logic (Python code). Templates allow developers to dynamically generate HTML pages by inserting data into predefined placeholders. This enables the creation of dynamic web pages that can change based on user input or application state.\n",
    "\n",
    "Templates in Flask are typically written in HTML format with placeholders, denoted by double curly braces {{ }}, where dynamic content will be inserted. These placeholders are replaced with actual data during the rendering process.\n",
    "\n",
    "The render_template() function is used in Flask to render these templates and generate HTML pages dynamically. It takes the name of the template file as an argument and optionally additional data to be passed to the template. The function then processes the template, replaces the placeholders with the provided data, and returns the final HTML content as a response to the client's request.\n"
   ]
  },
  {
   "cell_type": "code",
   "execution_count": null,
   "id": "de05d823-af9c-4dd6-b1d0-4eaf8ef070d6",
   "metadata": {},
   "outputs": [
    {
     "name": "stdout",
     "output_type": "stream",
     "text": [
      " * Serving Flask app '__main__'\n",
      " * Debug mode: off\n"
     ]
    },
    {
     "name": "stderr",
     "output_type": "stream",
     "text": [
      "WARNING: This is a development server. Do not use it in a production deployment. Use a production WSGI server instead.\n",
      " * Running on all addresses (0.0.0.0)\n",
      " * Running on http://127.0.0.1:5000\n",
      " * Running on http://172.18.0.4:5000\n",
      "Press CTRL+C to quit\n"
     ]
    }
   ],
   "source": [
    "#Q5\n",
    "from flask import Flask, jsonify, request\n",
    "\n",
    "app = Flask(__name__)\n",
    "\n",
    "@app.route('/api/sum', methods=['POST'])\n",
    "def sum_numbers():\n",
    "    num1 = request.json['num1']\n",
    "    num2 = request.json['num2']\n",
    "    result = num1 + num2\n",
    "    return jsonify(result=result)\n",
    "\n",
    "if __name__ == '__main__':\n",
    "    app.run(host='0.0.0.0')"
   ]
  },
  {
   "cell_type": "markdown",
   "id": "c82c1f51-86d5-439e-a273-f3bee1704a1b",
   "metadata": {},
   "source": [
    "To test the API using Postman:\n",
    "\n",
    "Open Postman and create a new request. Set the request method to POST. Enter the URL for the /api/sum endpoint, which should be http://127.0.0.1:5000/api/sum if you're running it locally. In the request body, provide a JSON payload with the \"num1\" and \"num2\" keys and their respective values"
   ]
  },
  {
   "cell_type": "code",
   "execution_count": null,
   "id": "d3a39c8f-1e9d-4816-b51f-e5c5f534fc22",
   "metadata": {},
   "outputs": [],
   "source": []
  }
 ],
 "metadata": {
  "kernelspec": {
   "display_name": "Python 3 (ipykernel)",
   "language": "python",
   "name": "python3"
  },
  "language_info": {
   "codemirror_mode": {
    "name": "ipython",
    "version": 3
   },
   "file_extension": ".py",
   "mimetype": "text/x-python",
   "name": "python",
   "nbconvert_exporter": "python",
   "pygments_lexer": "ipython3",
   "version": "3.10.8"
  }
 },
 "nbformat": 4,
 "nbformat_minor": 5
}
